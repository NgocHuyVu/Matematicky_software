{
 "cells": [
  {
   "cell_type": "markdown",
   "id": "3da707af-bd81-46c1-b35c-37c05fed0799",
   "metadata": {},
   "source": [
    "# Generování náhodných čísel a testování generátorů\n",
    "\n",
    "Zadání:\n",
    "\r\n",
    "Tento úkol bude poněkud kreativnější charakteru. Vaším úkolem je vytvořit vlastní generátor semínka do pseudonáhodných algoritmů. Jazyk Python umí sbírat přes ovladače hardwarových zařízení různá fyzická a fyzikální data. Můžete i sbírat data z historie prohlížeče, snímání pohybu myší, vyzvání uživatele zadat náhodné úhozy do klávesnice a jiná unikátní data uživatelů. \r\n"
   ]
  },
  {
   "cell_type": "markdown",
   "id": "0f9eaa4d-03b0-42f0-ab17-0871f207fb8b",
   "metadata": {},
   "source": [
    "# Řešení\n",
    "\n",
    "# Hra „3 cây“ (tři karty)\n",
    "\r",
    "* \tJe klasická vietnamská karetní hra\n",
    "* \tPoužívá francouzské karty, ale nepoužíváme karty s hodnotou 10, J, Q a K. Hra je pro 2 až 6 hráče. Rozdá se každému hráči 3 kare\n",
    "* \n",
    "\tPrincip výpočtu bodů je následující: karta A má hodnotu 1 bodu, karty 2, 3... 9 mají hodnotu odpovídající svému číslu. Celkový počet bodů je sou et hodnot těchto karet, avšak pouze se zbytkem po dělení 10. Například pro 3 karty: 2, 3, 8 bude výsledný bodový počet 3 (součet je 13). Hráč s vyš ím bodovým počtem vyhráv* \r\n",
    "\tPokud mají dva hráči stejný počet bodů, pak se porovnává nejvyšší karta v jejich kartách podle preferovaného pořadí sady: Kříže > Káry > Piky > Sr ce. Pokud jsou karty stejného druhu, pak se porovnává jejich hodnota podle pořadí: A > 9 > 8 > ... \n",
    " Mersenne Twister je pseudo-generátor náhodných čísel. Python používá Mersenne Twister pro modul random\n",
    "2. \r\n"
   ]
  },
  {
   "cell_type": "code",
   "execution_count": 1,
   "id": "e56b5ef3-faf2-4fe3-a08f-36b34b07e9a8",
   "metadata": {},
   "outputs": [
    {
     "name": "stdin",
     "output_type": "stream",
     "text": [
      "Zadejte počet hráčů (maximálně 6):  6\n"
     ]
    },
    {
     "name": "stdout",
     "output_type": "stream",
     "text": [
      "Hráč 1: ['2 Kříže', '6 Piky', '2 Káry']\n",
      "Hráč 2: ['5 Piky', 'A Káry', '4 Kříže']\n",
      "Hráč 3: ['8 Srdce', '3 Káry', '6 Kříže']\n",
      "Hráč 4: ['3 Piky', '4 Káry', '7 Kříže']\n",
      "Hráč 5: ['5 Srdce', '9 Káry', '4 Piky']\n",
      "Hráč 6: ['7 Srdce', 'A Piky', '2 Srdce']\n",
      "Hráč 5 vyhrál se skóre 8\n"
     ]
    }
   ],
   "source": [
    "import random\n",
    "\n",
    "# Vytvoření balíčku karet\n",
    "suits = ['Srdce', 'Káry', 'Piky', 'Kříže']\n",
    "values = ['A', '2', '3', '4', '5', '6', '7', '8', '9']\n",
    "deck = [(value, suit) for suit in suits for value in values]\n",
    "\n",
    "# Odstranění všech desítek a obrázkových karet (J, Q, K)\n",
    "deck = [card for card in deck if card[0] != '10' and card[0] not in ['J', 'Q', 'K']]\n",
    "\n",
    "# Funkce pro výpočet bodů pro tři karty\n",
    "def calculate_score(cards):\n",
    "    values_dict = {'A': 1, '2': 2, '3': 3, '4': 4, '5': 5, '6': 6, '7': 7, '8': 8, '9': 9}\n",
    "    total_score = sum([values_dict[card[0]] for card in cards])\n",
    "    return total_score % 10\n",
    "\n",
    "# Funkce pro porovnání karet podle pravidel\n",
    "def compare_cards(cards1, cards2):\n",
    "    score1 = calculate_score(cards1)\n",
    "    score2 = calculate_score(cards2)\n",
    "\n",
    "    if score1 != score2:\n",
    "        return score1 - score2\n",
    "\n",
    "    # Stejné skóre, porovnání nejvyšších karet\n",
    "    max_card1 = max(cards1, key=lambda card: (values.index(card[0]), suits.index(card[1])))\n",
    "    max_card2 = max(cards2, key=lambda card: (values.index(card[0]), suits.index(card[1])))\n",
    "\n",
    "    return (values.index(max_card1[0]), suits.index(max_card1[1])) - (values.index(max_card2[0]), suits.index(max_card2[1]))\n",
    "\n",
    "# Funkce pro vytvoření a rozdání karet hráčům\n",
    "def deal_cards(num_players):\n",
    "    random.shuffle(deck)\n",
    "    hands = [deck[i:i+3] for i in range(0, num_players * 3, 3)]\n",
    "    return hands\n",
    "\n",
    "# Hlavní funkce\n",
    "def main():\n",
    "    num_players = int(input(\"Zadejte počet hráčů (maximálně 6): \"))\n",
    "    if num_players < 2 or num_players > 6:\n",
    "        print(\"Neplatný počet hráčů.\")\n",
    "        return\n",
    "\n",
    "    hands = deal_cards(num_players)\n",
    "\n",
    "    for i, hand in enumerate(hands):\n",
    "        print(f\"Hráč {i+1}: {[f'{card[0]} {card[1]}' for card in hand]}\")\n",
    "\n",
    "    winner = max(enumerate(hands), key=lambda x: (calculate_score(x[1]), max([(values.index(card[0]), suits.index(card[1])) for card in x[1]])))\n",
    "    print(f\"Hráč {winner[0] + 1} vyhrál se skóre {calculate_score(winner[1])}\")\n",
    "\n",
    "if __name__ == \"__main__\":\n",
    "    main()\n"
   ]
  }
 ],
 "metadata": {
  "kernelspec": {
   "display_name": "Python 3 (ipykernel)",
   "language": "python",
   "name": "python3"
  },
  "language_info": {
   "codemirror_mode": {
    "name": "ipython",
    "version": 3
   },
   "file_extension": ".py",
   "mimetype": "text/x-python",
   "name": "python",
   "nbconvert_exporter": "python",
   "pygments_lexer": "ipython3",
   "version": "3.11.2"
  }
 },
 "nbformat": 4,
 "nbformat_minor": 5
}
