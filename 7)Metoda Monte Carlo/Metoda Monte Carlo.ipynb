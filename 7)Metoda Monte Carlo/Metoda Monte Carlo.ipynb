{
 "cells": [
  {
   "cell_type": "markdown",
   "id": "5bf48690-3db9-4b46-8843-a7ba6f81157a",
   "metadata": {},
   "source": [
    "# Metoda Monte Carlo\n",
    "\n",
    "## Zadání \n",
    "\n",
    "Metoda Monte Carlo představuje rodinu metod a filozofický přístup k modelování jevů, který využívá vzorkování prostoru (například prostor čísel na herní kostce, které mohou padnout) pomocí pseudonáhodného generátoru čísel. Jelikož se jedná spíše o filozofii řešení problému, tak využití je téměř neomezené. Na hodinách jste viděli několik aplikací (optimalizace portfolia aktiv, řešení Monty Hall problému, integrace funkce, aj.). Nalezněte nějaký zajímavý problém, který nebyl na hodině řešen, a získejte o jeho řešení informace pomocí metody Monte Carlo. Můžete využít kódy ze sešitu z hodin, ale kontext úlohy se musí lišit"
   ]
  },
  {
   "cell_type": "markdown",
   "id": "1f43b9e3-ea62-4625-be8e-65119b5f8279",
   "metadata": {},
   "source": [
    "# Řešení\n",
    "\n",
    "* Metoda Monte Carlo je simulační metoda založená na užití stochastických procesů a generování náhodných čísel\n",
    "* Pomocí mnohonásobného opakování náhodných pokusů lze získat střední hodnotu hledané veličiny. Opakuje experiment s náhodně zvolenými daty s velkým počtem opakování za účelem získání souhrnné statistiky z výsledků experimentu.\n",
    "* Moje zadání je simulace pro odhad pravděpodobnosti vytažení eso srdce z 52 hracích karet"
   ]
  },
  {
   "cell_type": "markdown",
   "id": "6d673baa-5bba-4dda-9ac0-46f3e6636dd2",
   "metadata": {},
   "source": [
    "# Postup \n",
    "* Vytvořeme simulaci 52 hracích karet: \n",
    "Generuje náhodnou 52 hracích karet, z nichž obsahuje jednu kartu Eso Srdce a 51 dalších karet. Tento proces můžet  mnohokrát opakovat, abyste vytvořili mnoho různých 52 hracích karet\n",
    "* Spočítejte počet tahů Eso Srdce: Při každých pokusů, zamícháme hrací karty, a táhne první kartu. Pokud první karta je Eso Srdce, zvýšíme hodnotu proměnné o 1, která je počet tahů Eso Srdce.\n",
    "* Vypočítáme pravděpodobnost:Dělíme počet tahů Eso Srdce s počtem celkových pokus \n",
    ".\r\n"
   ]
  },
  {
   "cell_type": "code",
   "execution_count": 1,
   "id": "4492b00f-0ac2-4b0a-ad18-7483b4529b73",
   "metadata": {},
   "outputs": [
    {
     "name": "stdout",
     "output_type": "stream",
     "text": [
      "Pravděpodobnosti k vytažení eso srdce z 52 hracích karet je 7.639 %\n"
     ]
    }
   ],
   "source": [
    "import random\n",
    "\n",
    "def monte_carlo_simulace(pokus):\n",
    "    tah_eso_srdce = 0\n",
    "    \n",
    "    for _ in range(pokus):\n",
    "        karty = list(range(1, 14)) * 4\n",
    "        random.shuffle(karty)\n",
    "        \n",
    "        if karty[0] == 1:  # eso srdce\n",
    "            tah_eso_srdce += 1\n",
    "    \n",
    "    pravdepodobnost = (tah_eso_srdce  / pokus) * 100\n",
    "    return pravdepodobnost\n",
    "\n",
    "pokus = 100000  \n",
    "vysledek = monte_carlo_simulace(pokus)\n",
    "\n",
    "print(f\"Pravděpodobnosti k vytažení eso srdce z 52 hracích karet je {vysledek} %\")\n"
   ]
  }
 ],
 "metadata": {
  "kernelspec": {
   "display_name": "Python 3 (ipykernel)",
   "language": "python",
   "name": "python3"
  },
  "language_info": {
   "codemirror_mode": {
    "name": "ipython",
    "version": 3
   },
   "file_extension": ".py",
   "mimetype": "text/x-python",
   "name": "python",
   "nbconvert_exporter": "python",
   "pygments_lexer": "ipython3",
   "version": "3.11.2"
  }
 },
 "nbformat": 4,
 "nbformat_minor": 5
}
