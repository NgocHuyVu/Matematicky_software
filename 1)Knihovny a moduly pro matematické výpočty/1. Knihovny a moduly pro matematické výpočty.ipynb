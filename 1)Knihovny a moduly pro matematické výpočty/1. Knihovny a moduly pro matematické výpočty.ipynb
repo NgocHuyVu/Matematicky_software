{
 "cells": [
  {
   "cell_type": "markdown",
   "id": "3fbf01b3-e175-47e3-83f2-eab8a5fc0f27",
   "metadata": {},
   "source": [
    "# Knihovny a moduly pro matematické výpočty\n",
    "   \n",
    "\n",
    "## Zadání:\n",
    "   \n",
    "V tomto kurzu jste se učili s některými vybranými knihovnami. Některé sloužily pro rychlé vektorové operace, jako numpy, některé mají naprogramovány symbolické manipulace, které lze převést na numerické reprezentace (sympy), některé mají v sobě funkce pro numerickou integraci (scipy). Některé slouží i pro rychlé základní operace s čísly (numba)\n",
    "\n",
    "Vaším úkolem je změřit potřebný čas pro vyřešení nějakého problému (např.: provést skalární součin, vypočítat určitý integrál) pomocí standardního pythonu a pomocí specializované knihovny. Toto měření proveďte alespoň pro 5 různých úloh (ne pouze jiná čísla, ale úplně jiné téma) a minimálně porovnejte rychlost jednoho modulu se standardním pythonem. Ideálně proveďte porovnání ještě s dalším modulem a snažte se, ať je kód ve standardním pythonu napsán efektiv\n",
    "     "
   ]
  },
  {
   "cell_type": "markdown",
   "id": "a881bf59-cc09-4803-9a79-41f010b4b1ae",
   "metadata": {},
   "source": [
    "# Přiklad 1: Skalární součin\n",
    "\n",
    "* Skalární součin se definuje mezi dvěma vektory a zachycuje vztah mezi velikostí vektorů a jejich úhlem\n"
   ]
  },
  {
   "cell_type": "code",
   "execution_count": 9,
   "id": "beb5dcb9-4e22-4ef8-89c3-8b39d1ebe91f",
   "metadata": {},
   "outputs": [
    {
     "name": "stdout",
     "output_type": "stream",
     "text": [
      "Potřebný čas pro vyřešení pomocí standardního Pythonu: 12.94 sekund\n",
      "Potřebný čas pro vyřešení pomocí NumPy: 0.02 sekund\n",
      "Pomocí Numpy se vyřeší rychlejší o přiblížně 99.85%\n"
     ]
    }
   ],
   "source": [
    "import numpy as np\n",
    "import timeit\n",
    "\n",
    "# Standardní Python\n",
    "def pomoci_standardniho_pythonu(a, b):\n",
    "    result = 0\n",
    "    for i in range(len(a)):\n",
    "        result += a[i] * b[i]\n",
    "    return result\n",
    "\n",
    "# NumPy\n",
    "def pomoci_numpy(a, b):\n",
    "    return np.dot(a, b)\n",
    "\n",
    "# Generování dat\n",
    "a = np.random.rand(1000000)\n",
    "b = np.random.rand(1000000)\n",
    "\n",
    "\n",
    "# Měření času pro standardní Python\n",
    "python_cas = timeit.timeit(lambda: pomoci_standardniho_pythonu(a, b), number=50)\n",
    "python_cas = round(python_cas, 2)\n",
    "print(f\"Potřebný čas pro vyřešení pomocí standardního Pythonu: {python_cas} sekund\")\n",
    "\n",
    "# Měření času pro NumPy\n",
    "numpy_cas = timeit.timeit(lambda: pomoci_numpy(a, b), number=50)\n",
    "numpy_cas = round(numpy_cas, 2)\n",
    "print(f\"Potřebný čas pro vyřešení pomocí NumPy: {numpy_cas} sekund\")\n",
    "\n",
    "#Porovnání: (stary_cas/novy_cas)/stary_cas*100\n",
    "porovnani = round((python_cas-numpy_cas)/python_cas*100, 2)\n",
    "print(f\"Pomocí Numpy se vyřeší rychlejší o přiblížně {porovnani}%\")\n",
    "\n",
    "\n"
   ]
  },
  {
   "cell_type": "markdown",
   "id": "0bf1d4cb-99e0-4618-ad98-5d6da33ce47a",
   "metadata": {},
   "source": [
    "# Přiklad 2: Průměr seznamu čísel"
   ]
  },
  {
   "cell_type": "code",
   "execution_count": 11,
   "id": "47e5fff5-6df7-4ff0-8160-7a0251c39640",
   "metadata": {},
   "outputs": [
    {
     "name": "stdout",
     "output_type": "stream",
     "text": [
      "Potřebný čas pro vyřešení pomocí standardního Pythonu: 12.401021600002423 sekund\n",
      "Potřebný čas pro vyřešení pomocí NumPy: 0.17210130000603385 sekund\n",
      "Pomocí Numpy se vyřeší rychlejší o přiblížně 98.61%\n"
     ]
    }
   ],
   "source": [
    "import statistics\n",
    "import timeit\n",
    "import numpy as np\n",
    "\n",
    "# Standardní Python\n",
    "def pomoci_strandardniho_python(data):\n",
    "    return statistics.mean(data)\n",
    "\n",
    "# NumPy\n",
    "def pomoci_numpy(data):\n",
    "    return np.mean(data)\n",
    "\n",
    "# Měření času pro standardní Python\n",
    "python_cas = timeit.timeit(lambda: pomoci_strandardniho_python(np.random.rand(1000000)), number=20)\n",
    "print(f\"Potřebný čas pro vyřešení pomocí standardního Pythonu: {python_cas} sekund\")\n",
    "\n",
    "# Měření času pro NumPy\n",
    "numpy_cas = timeit.timeit(lambda: pomoci_numpy(np.random.rand(1000000)), number=20)\n",
    "print(f\"Potřebný čas pro vyřešení pomocí NumPy: {numpy_cas} sekund\")\n",
    "\n",
    "#Porovnání: (stary_cas/novy_cas)/stary_cas*100\n",
    "porovnani = round((python_cas-numpy_cas)/python_cas*100, 2)\n",
    "print(f\"Pomocí Numpy se vyřeší rychlejší o přiblížně {porovnani}%\")"
   ]
  },
  {
   "cell_type": "markdown",
   "id": "53af320d-ce58-4f52-9c19-27b571ea5b56",
   "metadata": {},
   "source": [
    "# Přiklad 3: Výpočet faktoriálu\n",
    "\n",
    "* Faktoriál čísla n je roven součinu všech přirozených čísel, která jsou menší nebo rovna číslu n.\n",
    "\n",
    "* Např. 5! = 5 * 4 *3 * 2 *1 = 120\n",
    "\n",
    "* Funkce .prod spočítá součin všech prvků pole "
   ]
  },
  {
   "cell_type": "code",
   "execution_count": 5,
   "id": "68635626-184f-45e0-9338-1dfeb35110da",
   "metadata": {},
   "outputs": [
    {
     "name": "stdout",
     "output_type": "stream",
     "text": [
      "Potřebný čas pro vyřešení pomocí standardního Pythonu: 6.37 sekund\n",
      "Potřebný čas pro vyřešení pomocí NumPy: 4.31 sekund\n",
      "Pomocí Numpy se vyřeší rychlejší o přiblížně 32.34%\n"
     ]
    }
   ],
   "source": [
    "import timeit\n",
    "import numpy as np\n",
    "\n",
    "n = 100\n",
    "# Standardní Python\n",
    "def reseni_pomoci_standardni_python(n):\n",
    "    vysledek = 1\n",
    "    for i in range(1, n+1):\n",
    "        vysledek *= i\n",
    "    return vysledek\n",
    "\n",
    "def reseni_pomoci_numpy(n):\n",
    "    return np.prod(np.arange(1, n+1))\n",
    "\n",
    "# Měření času pro standardní Python\n",
    "python_cas = timeit.timeit(lambda: reseni_pomoci_standardni_python(n))\n",
    "python_cas = round(python_cas, 2)\n",
    "print(f\"Potřebný čas pro vyřešení pomocí standardního Pythonu: {python_cas} sekund\")\n",
    "\n",
    "# Měření času pro NumPy\n",
    "numpy_cas = timeit.timeit(lambda: reseni_pomoci_numpy(n))\n",
    "numpy_cas = round(numpy_cas, 2)\n",
    "print(f\"Potřebný čas pro vyřešení pomocí NumPy: {numpy_cas} sekund\")\n",
    "\n",
    "#Porovnání: (stary_cas/novy_cas)/stary_cas*100\n",
    "porovnani = round((python_cas-numpy_cas)/python_cas*100, 2)\n",
    "print(f\"Pomocí Numpy se vyřeší rychlejší o přiblížně {porovnani}%\")\n"
   ]
  },
  {
   "cell_type": "markdown",
   "id": "eaa026e5-6b0f-4eff-9145-2dbfb035dd96",
   "metadata": {},
   "source": [
    "# Přiklad 4: Umocnění prvků matice "
   ]
  },
  {
   "cell_type": "code",
   "execution_count": 6,
   "id": "ae6dd8e2-969e-47c3-8cd5-1b6411b162bd",
   "metadata": {},
   "outputs": [
    {
     "name": "stdout",
     "output_type": "stream",
     "text": [
      "Potřebný čas pro vyřešení pomocí standardního Pythonu: 34.0 sekund\n",
      "Potřebný čas pro vyřešení pomocí NumPy: 0.5 sekund\n",
      "Pomocí Numpy se vyřeší rychlejší o přiblížně 98.53%\n"
     ]
    }
   ],
   "source": [
    "import timeit\n",
    "import numpy as np\n",
    "\n",
    "def reseni_pomoci_standardni_python(matrix):\n",
    "    n = len(matrix)\n",
    "    result = [[0] * n for _ in range(n)]\n",
    "    for i in range(n):\n",
    "        for j in range(n):\n",
    "            result[i][j] = matrix[i][j] ** 2\n",
    "    return result\n",
    "\n",
    "def reseni_pomoci_numpy(matrix):\n",
    "    return np.square(matrix)\n",
    "\n",
    "\n",
    "matice = np.random.rand(10, 10)\n",
    "# Měření času pro standardní Python\n",
    "python_cas = timeit.timeit(lambda: reseni_pomoci_standardni_python(matice))\n",
    "python_cas = round(python_cas, 2)\n",
    "print(f\"Potřebný čas pro vyřešení pomocí standardního Pythonu: {python_cas} sekund\")\n",
    "\n",
    "# Měření času pro NumPy\n",
    "numpy_cas = timeit.timeit(lambda: reseni_pomoci_numpy(matice))\n",
    "numpy_cas = round(numpy_cas, 2)\n",
    "print(f\"Potřebný čas pro vyřešení pomocí NumPy: {numpy_cas} sekund\")\n",
    "\n",
    "#Porovnání: (stary_cas/novy_cas)/stary_cas*100\n",
    "porovnani = round((python_cas-numpy_cas)/python_cas*100, 2)\n",
    "print(f\"Pomocí Numpy se vyřeší rychlejší o přiblížně {porovnani}%\")"
   ]
  },
  {
   "cell_type": "markdown",
   "id": "67537824-7dd3-40f7-aa44-58460cc1e17f",
   "metadata": {},
   "source": [
    "# Přiklad 5: Sinus\n",
    "\n",
    "* Funkce numpy.linspace slouží pro generování pole úhlů"
   ]
  },
  {
   "cell_type": "code",
   "execution_count": 7,
   "id": "a0586df1-ed75-4243-a24b-5b1e02ccc502",
   "metadata": {},
   "outputs": [
    {
     "name": "stdout",
     "output_type": "stream",
     "text": [
      "Potřebný čas pro vyřešení pomocí standardního Pythonu: 16.75 sekund\n",
      "Potřebný čas pro vyřešení pomocí NumPy: 1.17 sekund\n",
      "Pomocí Numpy se vyřeší rychlejší o přiblížně 93.01%\n"
     ]
    }
   ],
   "source": [
    "import timeit\n",
    "import numpy as np\n",
    "import math\n",
    "\n",
    "def reseni_pomoci_standardni_python(uhly):\n",
    "    return [math.sin(uhel) for uhel in uhly]\n",
    "\n",
    "def reseni_pomoci_numpy(uhly):\n",
    "    return np.sin(uhly)\n",
    "\n",
    "uhly = np.linspace(0, 2*np.pi, 100)\n",
    "\n",
    "# Měření času pro standardní Python\n",
    "python_cas = timeit.timeit(lambda: reseni_pomoci_standardni_python(uhly))\n",
    "python_cas = round(python_cas, 2)\n",
    "print(f\"Potřebný čas pro vyřešení pomocí standardního Pythonu: {python_cas} sekund\")\n",
    "\n",
    "# Měření času pro NumPy\n",
    "numpy_cas = timeit.timeit(lambda: reseni_pomoci_numpy(uhly))\n",
    "numpy_cas = round(numpy_cas, 2)\n",
    "print(f\"Potřebný čas pro vyřešení pomocí NumPy: {numpy_cas} sekund\")\n",
    "\n",
    "#Porovnání: (stary_cas/novy_cas)/stary_cas*100\n",
    "porovnani = round((python_cas-numpy_cas)/python_cas*100, 2)\n",
    "print(f\"Pomocí Numpy se vyřeší rychlejší o přiblížně {porovnani}%\")\n"
   ]
  },
  {
   "cell_type": "markdown",
   "id": "6dbc8903-374e-452f-99a2-b517952d01e1",
   "metadata": {},
   "source": [
    "# Přiklad 6: Výpočet určitého integrálu"
   ]
  },
  {
   "cell_type": "code",
   "execution_count": 8,
   "id": "59ed660b-c8ab-48b3-8b49-a966afa7dcbe",
   "metadata": {},
   "outputs": [
    {
     "name": "stdin",
     "output_type": "stream",
     "text": [
      "Zadejte funkci f(x) např. x**2 + 2*x + 1 :  x**2 + 2*x + 1\n"
     ]
    },
    {
     "name": "stdout",
     "output_type": "stream",
     "text": [
      "Potřebný čas pro vyřešení pomocí standardního Pythonu: 0.04297979999682866 sekund\n",
      "Potřebný čas pro vyřešení pomocí SymPy: 0.04294169999775477 sekund\n",
      "Pomocí Numpy se vyřeší rychlejší o přiblížně 0.09%\n"
     ]
    }
   ],
   "source": [
    "import sympy as sp\n",
    "import timeit\n",
    "\n",
    "# Symbolická proměnná\n",
    "x = sp.symbols('x')\n",
    "\n",
    "zadani = input(\"Zadejte funkci f(x) např. x**2 + 2*x + 1 : \")\n",
    "\n",
    "try:\n",
    "    f = sp.sympify(zadani)\n",
    "except sp.SympifyError:\n",
    "    print(\"Chyba při zpracování vstupu.\")\n",
    "    exit(1)\n",
    "\n",
    "# interval určítého inegrálu (a,b)\n",
    "a = 1\n",
    "b = 5\n",
    "\n",
    "# Definice funkce pro výpočet určitého integrálu pomocí SymPy\n",
    "def pomoci_sympy():\n",
    "    return sp.integrate(f, (x, a, b))\n",
    "\n",
    "# Definice funkce pro výpočet určitého integrálu standardním Pythonem\n",
    "def pomoci_strandardniho_python():\n",
    "    # Definice diskretizace intervalu a krok pro sumaci\n",
    "    n = 10000\n",
    "    dx = (b - a) / n\n",
    "\n",
    "    # Sumace hodnot funkce na diskretizovaném intervalu\n",
    "    integral = sum(f.subs(x, a + i * dx) for i in range(n))\n",
    "\n",
    "    # Násobení krokem pro výpočet určitého integrálu\n",
    "    return integral * dx\n",
    "\n",
    "# Měření času pro standardní Python\n",
    "python_cas = timeit.timeit(lambda: pomoci_strandardniho_python)\n",
    "print(f\"Potřebný čas pro vyřešení pomocí standardního Pythonu: {python_cas} sekund\")\n",
    "\n",
    "# Měření času pro NumPy\n",
    "numpy_cas = timeit.timeit(lambda: pomoci_sympy)\n",
    "print(f\"Potřebný čas pro vyřešení pomocí SymPy: {numpy_cas} sekund\")\n",
    "\n",
    "#Porovnání: (stary_cas/novy_cas)/stary_cas*100\n",
    "porovnani = round((python_cas-numpy_cas)/python_cas*100, 2)\n",
    "print(f\"Pomocí Numpy se vyřeší rychlejší o přiblížně {porovnani}%\")\n"
   ]
  }
 ],
 "metadata": {
  "kernelspec": {
   "display_name": "Python 3 (ipykernel)",
   "language": "python",
   "name": "python3"
  },
  "language_info": {
   "codemirror_mode": {
    "name": "ipython",
    "version": 3
   },
   "file_extension": ".py",
   "mimetype": "text/x-python",
   "name": "python",
   "nbconvert_exporter": "python",
   "pygments_lexer": "ipython3",
   "version": "3.11.2"
  }
 },
 "nbformat": 4,
 "nbformat_minor": 5
}
