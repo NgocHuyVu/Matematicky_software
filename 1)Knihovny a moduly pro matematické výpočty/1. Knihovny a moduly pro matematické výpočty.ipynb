{
 "cells": [
  {
   "cell_type": "markdown",
   "id": "3fbf01b3-e175-47e3-83f2-eab8a5fc0f27",
   "metadata": {},
   "source": [
    "1. Knihovny a moduly pro matematické výpočty\n",
    "   Zadání:\n",
    "   \n",
    "V tomto kurzu jste se učili s některými vybranými knihovnami. Některé sloužily pro rychlé vektorové operace, jako numpy, některé mají naprogramovány symbolické manipulace, které lze převést na numerické reprezentace (sympy), někter\n",
    "    mají v sobě funkce pro numerickou integraci (scipy). Některé slouží i pro rychlé základní operace s čísly (numba)\n",
    "\n",
    "   \n",
    "\r\n",
    "Vaším úkolem je změřit potřebný čas pro vyřešení nějakého problému (např.: provést skalární součin, vypočítat určitý integrál) pomocí standardního pythonu a pomocí specializované knihovny. Toto měření proveďte alespoň pro 5 různ\n",
    "   ch úloh (ne pouze jiná čísla, ale úplně jiné téma) a minimálně porovnejte rychlost jednoho modulu se standardním pythonem. Ideálně proveďte porovnání ještě s dalším modulem a snažte se, ať je kód ve standardním pythonu napsán efektiv\n",
    "     \r\n",
    "\n",
    "   \n",
    "   \n",
    "   \n",
    "   "
   ]
  },
  {
   "cell_type": "markdown",
   "id": "a881bf59-cc09-4803-9a79-41f010b4b1ae",
   "metadata": {},
   "source": [
    "Přiklad 1: Skalární součin\n",
    "Skalární součin se definuje mezi dvěma vektory a zachycuje vztah mezi velikostí vektorů a jejich úhlemrray)\r\n"
   ]
  },
  {
   "cell_type": "code",
   "execution_count": null,
   "id": "beb5dcb9-4e22-4ef8-89c3-8b39d1ebe91f",
   "metadata": {},
   "outputs": [],
   "source": [
    "import numpy as np\n",
    "import timeit\n",
    "\n",
    "# Standardní Python\n",
    "def pomoci_standardniho_pythonu(a, b):\n",
    "    result = 0\n",
    "    for i in range(len(a)):\n",
    "        result += a[i] * b[i]\n",
    "    return result\n",
    "\n",
    "# NumPy\n",
    "def pomoci_numpy(a, b):\n",
    "    return np.dot(a, b)\n",
    "\n",
    "# Generování dat\n",
    "a = np.random.rand(1000000)\n",
    "b = np.random.rand(1000000)\n",
    "\n",
    "\n",
    "# Měření času pro standardní Python\n",
    "python_cas = timeit.timeit(lambda: pomoci_standardniho_pythonu(a, b), number=50)\n",
    "python_cas = round(python_cas, 2)\n",
    "print(f\"Potřebný čas pro vyřešení pomocí standardního Pythonu: {python_cas} sekund\")\n",
    "\n",
    "# Měření času pro NumPy\n",
    "numpy_cas = timeit.timeit(lambda: pomoci_numpy(a, b), number=50)\n",
    "numpy_cas = round(numpy_cas, 2)\n",
    "print(f\"Potřebný čas pro vyřešení pomocí NumPy: {numpy_cas} sekund\")\n",
    "\n",
    "#Porovnání: (stary_cas/novy_cas)/stary_cas*100\n",
    "porovnani = round((python_cas-numpy_cas)/python_cas*100, 2)\n",
    "print(f\"Pomocí Numpy se vyřeší rychlejší o přiblížně {porovnani}%\")"
   ]
  }
 ],
 "metadata": {
  "kernelspec": {
   "display_name": "Python 3 (ipykernel)",
   "language": "python",
   "name": "python3"
  },
  "language_info": {
   "codemirror_mode": {
    "name": "ipython",
    "version": 3
   },
   "file_extension": ".py",
   "mimetype": "text/x-python",
   "name": "python",
   "nbconvert_exporter": "python",
   "pygments_lexer": "ipython3",
   "version": "3.11.2"
  }
 },
 "nbformat": 4,
 "nbformat_minor": 5
}
